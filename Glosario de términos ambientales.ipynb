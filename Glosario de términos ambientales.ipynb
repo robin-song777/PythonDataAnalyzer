{
 "cells": [
  {
   "cell_type": "code",
   "execution_count": null,
   "id": "4a91dcbc",
   "metadata": {},
   "outputs": [],
   "source": [
    "\n",
    "# Define el glosario como un diccionario de términos y definiciones\n",
    "glosario_ambiental = {\"Agenda Ambiental\":\"Herramienta de planificación local que orientan el desarrollo territorial desde la perspectiva ambiental, de conformidad con las propuestas de desarrollo y de ordenamiento territorial.\",\n",
    "\"Acuicultivo\":\"Incremento de la fauna acuática de importancia económica.\",\n",
    "\"Acuicultura\":\"Cultivo controlado de especies acuáticas con el propósito de incrementar la producción y la comercialización.\",\n",
    "\"Acuífero\":\"Formación geológica de la corteza terrestre en la que se acumulan las agua infiltradas, de afluencia o de condensación.\",\n",
    "\"Aerosol\":\"Presencia de sustancias líquidas o sólidas o ambas en suspensión en un medio gaseoso, cuya veidad de caída es prácticamente despreciable.\",\n",
    "\"Afectación Antrópica\":\"Alteración ocasionada por la acción del hombre sobre el medio.\",\n",
    "\"Agricultura Alternativa\":\"Sistema de técnicas agrícolas, distinto al usado normalmente, con el que se pretende lograr mejores resultados en la producción agrícola, preservando el ecosistema.\",\n",
    "\"Agua Blanda\":\"Agua libre de sales de calcio y magnesio.\",\n",
    "\"Ambiente\":\"El entorno, incluyendo el agua, el aire y el suelo, y su interrelación, así como las relaciones entre estos elementos y cualesquiera organismos vivos. Decreto 775/90 por el cual se reglamentan parcialmente los Títulos III, V, VI, VII y XI de la Ley 09 de 1979, sobre uso y manejo de plaguicidas, derogada por el Decreto 1843/91.\",\n",
    "\"Amenaza\":\"Peligro latente asociado con un fenómeno físico de origen natural, de origen tecnológico o provocado por el hombre, que puede manifestarse en un sitio específico y en un tiempo determinado, produciendo efectos adversos en las personas, los bienes, servicios y el medio ambiente. Técnicamente se refiere a la probabilidad de ocurrencia de un evento con una cierta intensidad, en un sitio específico y en un periodo de tiempo determinado.\",\n",
    "\"Amenazas antropogénicas o antrópicas\":\"Peligro latente generado por la actividad humana en la producción, distribución, transporte y consumo de bienes y servicios y en la construcción y uso de infraestructura y edificios. Comprenden una gama amplia de peligros tales como las distintas formas de contaminación de aguas, aire y suelos, los incendios, las explosiones, los derrames de sustancias tóxicas, los accidentes en los sistemas de transporte, la ruptura de presas de retención de agua, etc.\",\n",
    "\"Amenazas naturales\":\"Peligro latente asociado con la posible manifestación de un fenómeno físico cuya génesis se encuentra totalmente en los procesos naturales de transformación y modificación de la tierra y el ambiente; por ejemplo, un terremoto, una erupción volcánica, un tsunami o un huracán y que puede ocasionar la muerte o lesiones a seres vivos, daños materiales o interrupción de la actividad social y económica en general. Suelen clasificarse de acuerdo con sus orígenes terrestres, atmosféricos o biológicos en la biosfera permitiendo identificar entre otras, amenazas geológicas, geomorfológicas, climatológicas, hidrometeorológicas, oceánicas y bióticas.\",\n",
    "\"Aprovechamiento forestal\":\"Es la extracción de productos de un bosque Decreto 2811/74 por el cual se dicta el Código Nacional de Recursos Naturales Renovables y de Protección al Medio Ambiente.\",\n",
    "\"Bosque andino\":\"En el sistema de clasificación de zonas de vida de Cuatrecasas, es la faja altitudinal comprendida entre los 2.000 y los 3.000 m.s.n.m\",\n",
    "\"Calidad ambiental\":\"Capacidad relativa de un medio ambiente para satisfacer las necesidades o los deseos de un individuo o sociedad.\",\n",
    "\"Calidad del agua\":\"Condición general que permite que el agua se emplee para usos concretos. La calidad del agua está determinada por la hidrología, la físicoquímica y la biología de la masa del agua a que se refiera.\",\n",
    "\"CAR\":\"Corporación Autónoma Regional de Cundinamarca.\",\n",
    "\"Caudal\":\"Volumen de agua que pasa por una sección dada.\",\n",
    "\"CIDEA (Comité Técnico Interinstitucional de Educación Ambiental)\":\"Asume el debate y la formulación de los Planes de Educación Ambiental en los niveles municipal, departamental o regional y busca consolidar y articular los diversos actores públicos y privados asentados en el territorio, que tienen competencias, responsabilidades o intereses en el desarrollo de programas, proyectos y acciones de Educación Ambiental.\",\n",
    "\"CLOPAD\":\"Comité Local Para Atención de Desastres.\",\n",
    "\"Conservación\":\"Acción y efecto de mantener un ecosistema en un buen estado y gestión de la utilización de la biosfera por el ser humano, de tal suerte que produzca el mayor y sostenido beneficio para las generaciones actuales, pero que mantengan su potencialidad para satisfacer las necesidades de las generaciones futuras.\",\n",
    "\"Contaminante\":\"Materiales, sustancias o energía que al incorporarse y/o actuar sobre el ambiente degradan su calidad original a niveles no propios para la salud y el bienestar humano, poniendo en peligro los ecosistemas naturales.\",\n",
    "\"Cuenca\":\"Área de aguas superficiales o subterráneas, que vierten a una red hidrográfica natural con uno o varios cauces naturales, de caudal continuo o intermitente, que confluyen en un curso mayor y a su vez, puede desembocar en un río principal, en un depósito natural de aguas, en un pantano o directamente al mar.\",\n",
    "\"Degradación deterioro ambiental\":\"Procesos inducidos por acciones y actividades humanas que dañan la base de recursos naturales o que afectan de manera adversa procesos naturales y ecosistemas, reduciendo su calidad y productividad. Los efectos potenciales son variados e incluyen la transformación de recursos en amenazas de tipo socionatural. La degradación ambiental puede ser la causa de una pérdida de resiliencia de los ecosistemas y del ambiente, la cual las hace más propensos a sufrir impactos y transformaciones con la ocurrencia de un fenómeno físico peligroso. La pérdida de resiliencia puede generar nuevas amenazas de tipo socionatural.\",\n",
    "\"Desarrollo sostenible\":\"Proceso de transformaciones naturales, económico-sociales, culturales e institucionales, que tienen por objeto asegurar el mejoramiento de las condiciones de vida del ser humano, la producción de bienes y prestación de servicios, sin deteriorar el ambiente natural ni comprometer las bases de un desarrollo similar para las futuras generaciones.\",\n",
    "\"Diagnóstico ambiental\":\"Descripción del estado de situación ambiental de un área sobre la base de la utilización integradora de indicadores con origen en las ciencias sociales, exactas y naturales.\",\n",
    "\"Ecosistema\":\"Sistema natural resultante de la reunión de elementos de mutua interacción, compuesto por organismos vivos y el ambiente físico en que se desarrollan.\",\n",
    "\"EOT Esquema de Ordenamiento Territorial\":\"Instrumento de planificación municipal de mediano y largo plazo, para municipios con población inferior a los 30.000 habitantes, para orientar el desarrollo del territorio bajo su jurisdicción y regular la utilización, transformación y ocupación del suelo y los espacios, de acuerdo con las estrategias de desarrollo socioeconómico y en armonía con el medio ambiente y las tradiciones históricas y culturales.\",\n",
    "\"Evaluación de impacto ambiental\":\"Resultado de medir y ponderar los efectos de las actividades del desarrollo humano o la carencia de acciones sobre distintos componentes del medio ambiente durante una etapa de planeación.\",\n",
    "\"Fauna\":\"Conjunto de especies animales que habitan una región geográfica, que son propias de un periodo geológico o que se pueden encontrar en un sistema determinado.\",\n",
    "\"GAM Gestión Ambiental Municipal\":\"Proceso social y político continuo en el que intervienen diversos actores de la vida municipal políticos, económicos, sociales y en el que se define, formula y ejecuta un conjunto de acciones que tienen como finalidad el desarrollo sostenible de un territorio y el mejoramiento de la calidad de vida de la población.\",\n",
    "\"IGAC Instituto Geográfico Agustín Codazzi\":\"Es la entidad encargada de producir el mapa oficial y la cartografía básica de Colombia, elaborar el catastro nacional de la propiedad inmueble, realizar el inventario de las características de los suelos, adelantar investigaciones geográficas como apoyo al desarrollo territorial, capacitar y formar profesionales en tecnologías de información geográfica y coordinar la infraestructura colombiana de Datos Especiales.\",\n",
    "\"Impacto Ambiental\":\"Cualquier alteración en el medio físico, químico, biológico, cultural y socioeconómico que pueda ser atribuido a actividades humanas relacionadas con las necesidades del proyecto\",\n",
    "\"Línea de acción\":\"Entendida como áreas temáticas prioritarias a las que se le fijan objetivos, programas y proyectos a modo de perfil.\",\n",
    "\"Manejo ambiental\":\"Instrumento mediante el cual se intenta concretar, con respecto a nuestro entorno, aquellas aspiraciones definidas como positivas por el sistema de valores representativos de los intereses de la población afectada con las intervenciones que se llevan a cabo en el ecosistema de gestión.\",\n",
    "\"Manejo forestal\":\"Conjunto de actividades de caracterización, planificación, aprovechamiento, regeneración, reposición, protección del bosque, conducentes a asegurar la producción constante de madera y otros bienes y servicios ambientales.\",\n",
    "\"Matriz de impactos\":\"Consiste en la valoración cualitativa de los impactos, es de tipo causa- efecto, por medio de un cuadro de doble entrada, donde las columnas serán las acciones impactantes y las filas los componentes medio ambientales susceptibles de recibir impactos.\",\n",
    "\"Ordenamiento territorial\":\"Tiene por objeto establecer las condiciones de uso y ocupación del territorio y de sus componentes, de manera que dicho uso se realice de acuerdo con las características ecológicas, económicas, culturales y sociales de estos espacios, teniendo en cuenta la fragilidad, vulnerabilidad y endemismo de los ecosistemas y las especies, así como la erosión genética, con el fin de obtener el máximo aprovechamiento sin comprometer su calidad y sostenibilidad.\",\n",
    "\"PAT Plan de Acción Trienal\":\"Instrumento de planeación de las Corporaciones Autónomas Regionales, en el cual se concreta el compromiso institucional para el logro de los objetivos y metas planteados en el Plan de Gestión Ambiental Regional; en él se definen las acciones e inversiones que se adelantarán en el área de su jurisdicción y su proyección actualmente es a tres años. En el futuro será a cuatro años.\",\n",
    "\"PGAR Plan de Gestión Ambiental Regional\":\"Instrumento de planificación estratégico de largo plazo de la Corporación Autónoma Regional para el área de su jurisdicción, que permite orientar su gestión e integrar las acciones de todos los actores regionales con el fin de que el proceso de desarrollo avance hacia la sostenibilidad de las regiones. El Plan de Gestión Ambiental Regional tendrá una vigencia de mínimo 10 años.\",\n",
    "\"PGIRS Plan de Gestión Integral de Residuos Sólidos\":\"Conjunto ordenado de objetivos, metas, programas, proyectos y actividades definidos por el ente territorial para la prestación del servicio de aseo, basado en la política de Gestión Integral de Residuos Sólidos, el cual se obliga a ejecutar durante un periodo determinado, para el mejoramiento continuo de la prestación del servicio de aseo.\",\n",
    "\"PMA Plan de Manejo Ambiental\":\"Es una guía técnica para el desarrollo, interpretación, conservación, protección, uso y manejo en general de los recursos naturales. Incluye las zonificaciones respectivas. Se puede aplicar a las áreas protegidas del orden regional, para su administración y conservación.\",\n",
    "\"POMCA - Plan de Ordenamiento y Manejo de Cuencas\":\"Se orienta a garantizar las condiciones y la oferta de bienes y servicios ambientales adecuadas para el desarrollo económico y el bienestar social en su área de influencia.\",\n",
    "\"PRAE Proyecto Ambiental Escolar\":\"Establecido en el Decreto 1743 de 1994, reglamento de la Política Nacional de Educación Ambiental. Se elabora en cada institución educativa, para fortalecer la cultura ambiental y consolidar acciones participativas que aborden la problemática ambiental local.\",\n",
    "\"PROCEDA Proyecto Ciudadano de Educación Ambiental\":\"Proyecto de iniciativa comunitaria, con el objeto de fortalecer la cultura ambiental y la autogestión de las comunidades y sus organizaciones para desarrollar acciones que aborden la problemática ambiental local.\",\n",
    "\"Programa\":\"Articulación de una serie de proyectos previstos en una área determinada.\",\n",
    "\"PSMV\":\"Plan de Saneamiento y Manejo de Vertimientos.\",\n",
    "\"PTAR Planta de Tratamiento de Aguas Residual\":\"Estructura física que incorpora procesos físicos, químicos y biológicos que tratan y remueven contaminantes físicos, químicos y biológicos del uso humano cotidiano del agua.\",\n",
    "\"Recursos naturales\":\"Elementos de la naturaleza que el hombre puede aprovechar para satisfacer sus necesidades. Son el agua, el suelo, la flora, la fauna y el aire.\",\n",
    "\"Reservas forestales\":\"Áreas de propiedad pública o privada que se destinan al mantenimiento o recuperación de la vegetación nativa protectora.\",\n",
    "\"SIGAM Sistema de Gestión Ambiental Municipal\":\"Estrategia de fortalecimiento de la capacidad de Gestión Ambiental de las Entidades Territoriales, con miras a organizar y brindar los elementos necesarios para hacer frente a las responsabilidades ambientales que son competencia del municipio.\",\n",
    "\"SINA Sistema Nacional Ambiental\":\"Según el artículo 4 de la Ley 99 de 1993, es el conjunto de orientaciones, normas, actividades, recursos, programas e instituciones que permiten la puesta en marcha de los principios generales ambientales contenidos en ella; fue reglamentado parcialmente por el Decreto 1600 de julio 27 de 1994.\",\n",
    "\"Sistema\":\"Conjunto de elementos agrupados con un criterio determinado, las relaciones entre los elementos del conjunto y las relaciones de éste con su entorno.\",\n",
    "\"Sustentabilidad ecológica\":\"Capacidad de un ecosistema de mantener su estado igual, o bien equivalente, en el tiempo. Para lograrlo, se precisa el mantenimiento de ciertos parámetros, por parte de la naturaleza a través de mecanismos de equilibrio dinámico.\",\n",
    "\"Vegetación\":\"Es el manto vegetal de un territorio dado.\",\n",
    "\"Vertimiento\":\"Evacuación deliberada de desechos u otras sustancias al ambiente.\"}\n",
    "\n",
    "        # Agrega más términos y definiciones aquí"
   ]
  },
  {
   "cell_type": "code",
   "execution_count": 12,
   "id": "9f3db2d7",
   "metadata": {},
   "outputs": [
    {
     "name": "stdout",
     "output_type": "stream",
     "text": [
      "ingresa el término que quieres buscar: Vegetación\n",
      "Vegetación: Es el manto vegetal de un territorio dado.\n"
     ]
    }
   ],
   "source": [
    "# Realiza búsquedas en el glosario\n",
    "término=input(\"ingresa el término que quieres buscar:\"\" \")\n",
    "if término in glosario_ambiental:\n",
    "    print(f\"{término}: {glosario_ambiental[término]}\")\n",
    "else:\n",
    "    print(f\"El término '{término}' no se encuentra en el glosario.\")\n",
    "#Este es solo un ejemplo básico para mostrar cómo podrías estructurar el glosario y realizar búsquedas en él. Puedes adaptarlo y expandirlo según tus necesidades y requerimientos específicos."
   ]
  },
  {
   "cell_type": "code",
   "execution_count": 16,
   "id": "e52866e2",
   "metadata": {},
   "outputs": [],
   "source": [
    "# Fuentes utilizadas en el glosario\n",
    "fuentes = {\n",
    "    \"Fuente 1\": \"https://www.car.gov.co/vercontenido/2215\",\"Fuente 2:\"https://biblio.colsan.edu.mx/arch/especi/lc_otro_007.pdf\"}"
   ]
  },
  {
   "cell_type": "code",
   "execution_count": 17,
   "id": "9bcc1f1d",
   "metadata": {},
   "outputs": [
    {
     "name": "stdout",
     "output_type": "stream",
     "text": [
      "Agenda Ambiental: Herramienta de planificación local que orientan el desarrollo territorial desde la perspectiva ambiental, de conformidad con las propuestas de desarrollo y de ordenamiento territorial.\n",
      "Ambiente: El entorno, incluyendo el agua, el aire y el suelo, y su interrelación, así como las relaciones entre estos elementos y cualesquiera organismos vivos. Decreto 775/90 por el cual se reglamentan parcialmente los Títulos III, V, VI, VII y XI de la Ley 09 de 1979, sobre uso y manejo de plaguicidas, derogada por el Decreto 1843/91.\n",
      "Amenaza: Peligro latente asociado con un fenómeno físico de origen natural, de origen tecnológico o provocado por el hombre, que puede manifestarse en un sitio específico y en un tiempo determinado, produciendo efectos adversos en las personas, los bienes, servicios y el medio ambiente. Técnicamente se refiere a la probabilidad de ocurrencia de un evento con una cierta intensidad, en un sitio específico y en un periodo de tiempo determinado.\n",
      "Amenazas antropogénicas o antrópicas: Peligro latente generado por la actividad humana en la producción, distribución, transporte y consumo de bienes y servicios y en la construcción y uso de infraestructura y edificios. Comprenden una gama amplia de peligros tales como las distintas formas de contaminación de aguas, aire y suelos, los incendios, las explosiones, los derrames de sustancias tóxicas, los accidentes en los sistemas de transporte, la ruptura de presas de retención de agua, etc.\n",
      "Amenazas naturales: Peligro latente asociado con la posible manifestación de un fenómeno físico cuya génesis se encuentra totalmente en los procesos naturales de transformación y modificación de la tierra y el ambiente; por ejemplo, un terremoto, una erupción volcánica, un tsunami o un huracán y que puede ocasionar la muerte o lesiones a seres vivos, daños materiales o interrupción de la actividad social y económica en general. Suelen clasificarse de acuerdo con sus orígenes terrestres, atmosféricos o biológicos en la biosfera permitiendo identificar entre otras, amenazas geológicas, geomorfológicas, climatológicas, hidrometeorológicas, oceánicas y bióticas.\n",
      "Aprovechamiento forestal: Es la extracción de productos de un bosque Decreto 2811/74 por el cual se dicta el Código Nacional de Recursos Naturales Renovables y de Protección al Medio Ambiente.\n",
      "Bosque andino: En el sistema de clasificación de zonas de vida de Cuatrecasas, es la faja altitudinal comprendida entre los 2.000 y los 3.000 m.s.n.m\n",
      "Calidad ambiental: Capacidad relativa de un medio ambiente para satisfacer las necesidades o los deseos de un individuo o sociedad.\n",
      "Calidad del agua: Condición general que permite que el agua se emplee para usos concretos. La calidad del agua está determinada por la hidrología, la físicoquímica y la biología de la masa del agua a que se refiera.\n",
      "Caudal: Volumen de agua que pasa por una sección dada.\n",
      "CAR: Corporación Autónoma Regional de Cundinamarca.\n",
      "CIDEA (Comité Técnico Interinstitucional de Educación Ambiental): Asume el debate y la formulación de los Planes de Educación Ambiental en los niveles municipal, departamental o regional y busca consolidar y articular los diversos actores públicos y privados asentados en el territorio, que tienen competencias, responsabilidades o intereses en el desarrollo de programas, proyectos y acciones de Educación Ambiental.\n",
      "CLOPAD: Comité Local Para Atención de Desastres.\n",
      "Conservación: Acción y efecto de mantener un ecosistema en un buen estado y gestión de la utilización de la biosfera por el ser humano, de tal suerte que produzca el mayor y sostenido beneficio para las generaciones actuales, pero que mantengan su potencialidad para satisfacer las necesidades de las generaciones futuras.\n",
      "Contaminante: Materiales, sustancias o energía que al incorporarse y/o actuar sobre el ambiente degradan su calidad original a niveles no propios para la salud y el bienestar humano, poniendo en peligro los ecosistemas naturales.\n",
      "Cuenca: Área de aguas superficiales o subterráneas, que vierten a una red hidrográfica natural con uno o varios cauces naturales, de caudal continuo o intermitente, que confluyen en un curso mayor y a su vez, puede desembocar en un río principal, en un depósito natural de aguas, en un pantano o directamente al mar.\n",
      "Degradación deterioro ambiental: Procesos inducidos por acciones y actividades humanas que dañan la base de recursos naturales o que afectan de manera adversa procesos naturales y ecosistemas, reduciendo su calidad y productividad. Los efectos potenciales son variados e incluyen la transformación de recursos en amenazas de tipo socionatural. La degradación ambiental puede ser la causa de una pérdida de resiliencia de los ecosistemas y del ambiente, la cual las hace más propensos a sufrir impactos y transformaciones con la ocurrencia de un fenómeno físico peligroso. La pérdida de resiliencia puede generar nuevas amenazas de tipo socionatural.\n",
      "Desarrollo sostenible: Proceso de transformaciones naturales, económico-sociales, culturales e institucionales, que tienen por objeto asegurar el mejoramiento de las condiciones de vida del ser humano, la producción de bienes y prestación de servicios, sin deteriorar el ambiente natural ni comprometer las bases de un desarrollo similar para las futuras generaciones.\n",
      "Diagnóstico ambiental: Descripción del estado de situación ambiental de un área sobre la base de la utilización integradora de indicadores con origen en las ciencias sociales, exactas y naturales.\n",
      "Ecosistema: Sistema natural resultante de la reunión de elementos de mutua interacción, compuesto por organismos vivos y el ambiente físico en que se desarrollan.\n",
      "Evaluación de impacto ambiental: Resultado de medir y ponderar los efectos de las actividades del desarrollo humano o la carencia de acciones sobre distintos componentes del medio ambiente durante una etapa de planeación.\n",
      "EOT Esquema de Ordenamiento Territorial: Instrumento de planificación municipal de mediano y largo plazo, para municipios con población inferior a los 30.000 habitantes, para orientar el desarrollo del territorio bajo su jurisdicción y regular la utilización, transformación y ocupación del suelo y los espacios, de acuerdo con las estrategias de desarrollo socioeconómico y en armonía con el medio ambiente y las tradiciones históricas y culturales.\n",
      "Fauna: Conjunto de especies animales que habitan una región geográfica, que son propias de un periodo geológico o que se pueden encontrar en un sistema determinado.\n",
      "GAM Gestión Ambiental Municipal: Proceso social y político continuo en el que intervienen diversos actores de la vida municipal políticos, económicos, sociales y en el que se define, formula y ejecuta un conjunto de acciones que tienen como finalidad el desarrollo sostenible de un territorio y el mejoramiento de la calidad de vida de la población.\n",
      "Impacto Ambiental: Cualquier alteración en el medio físico, químico, biológico, cultural y socioeconómico que pueda ser atribuido a actividades humanas relacionadas con las necesidades del proyecto\n",
      "IGAC Instituto Geográfico Agustín Codazzi: Es la entidad encargada de producir el mapa oficial y la cartografía básica de Colombia, elaborar el catastro nacional de la propiedad inmueble, realizar el inventario de las características de los suelos, adelantar investigaciones geográficas como apoyo al desarrollo territorial, capacitar y formar profesionales en tecnologías de información geográfica y coordinar la infraestructura colombiana de Datos Especiales.\n",
      "Línea de acción: Entendida como áreas temáticas prioritarias a las que se le fijan objetivos, programas y proyectos a modo de perfil.\n",
      "Manejo ambiental: Instrumento mediante el cual se intenta concretar, con respecto a nuestro entorno, aquellas aspiraciones definidas como positivas por el sistema de valores representativos de los intereses de la población afectada con las intervenciones que se llevan a cabo en el ecosistema de gestión.\n",
      "Manejo forestal: Conjunto de actividades de caracterización, planificación, aprovechamiento, regeneración, reposición, protección del bosque, conducentes a asegurar la producción constante de madera y otros bienes y servicios ambientales.\n",
      "Matriz de impactos: Consiste en la valoración cualitativa de los impactos, es de tipo causa- efecto, por medio de un cuadro de doble entrada, donde las columnas serán las acciones impactantes y las filas los componentes medio ambientales susceptibles de recibir impactos.\n",
      "Ordenamiento territorial: Tiene por objeto establecer las condiciones de uso y ocupación del territorio y de sus componentes, de manera que dicho uso se realice de acuerdo con las características ecológicas, económicas, culturales y sociales de estos espacios, teniendo en cuenta la fragilidad, vulnerabilidad y endemismo de los ecosistemas y las especies, así como la erosión genética, con el fin de obtener el máximo aprovechamiento sin comprometer su calidad y sostenibilidad.\n",
      "PAT Plan de Acción Trienal: Instrumento de planeación de las Corporaciones Autónomas Regionales, en el cual se concreta el compromiso institucional para el logro de los objetivos y metas planteados en el Plan de Gestión Ambiental Regional; en él se definen las acciones e inversiones que se adelantarán en el área de su jurisdicción y su proyección actualmente es a tres años. En el futuro será a cuatro años.\n",
      "PGAR Plan de Gestión Ambiental Regional: Instrumento de planificación estratégico de largo plazo de la Corporación Autónoma Regional para el área de su jurisdicción, que permite orientar su gestión e integrar las acciones de todos los actores regionales con el fin de que el proceso de desarrollo avance hacia la sostenibilidad de las regiones. El Plan de Gestión Ambiental Regional tendrá una vigencia de mínimo 10 años.\n",
      "PGIRS Plan de Gestión Integral de Residuos Sólidos: Conjunto ordenado de objetivos, metas, programas, proyectos y actividades definidos por el ente territorial para la prestación del servicio de aseo, basado en la política de Gestión Integral de Residuos Sólidos, el cual se obliga a ejecutar durante un periodo determinado, para el mejoramiento continuo de la prestación del servicio de aseo.\n",
      "PMA Plan de Manejo Ambiental: Es una guía técnica para el desarrollo, interpretación, conservación, protección, uso y manejo en general de los recursos naturales. Incluye las zonificaciones respectivas. Se puede aplicar a las áreas protegidas del orden regional, para su administración y conservación.\n",
      "POMCA - Plan de Ordenamiento y Manejo de Cuencas: Se orienta a garantizar las condiciones y la oferta de bienes y servicios ambientales adecuadas para el desarrollo económico y el bienestar social en su área de influencia.\n",
      "PSMV: Plan de Saneamiento y Manejo de Vertimientos.\n",
      "PRAE Proyecto Ambiental Escolar: Establecido en el Decreto 1743 de 1994, reglamento de la Política Nacional de Educación Ambiental. Se elabora en cada institución educativa, para fortalecer la cultura ambiental y consolidar acciones participativas que aborden la problemática ambiental local.\n",
      "PROCEDA Proyecto Ciudadano de Educación Ambiental: Proyecto de iniciativa comunitaria, con el objeto de fortalecer la cultura ambiental y la autogestión de las comunidades y sus organizaciones para desarrollar acciones que aborden la problemática ambiental local.\n",
      "Programa: Articulación de una serie de proyectos previstos en una área determinada.\n",
      "PTAR Planta de Tratamiento de Aguas Residual: Estructura física que incorpora procesos físicos, químicos y biológicos que tratan y remueven contaminantes físicos, químicos y biológicos del uso humano cotidiano del agua.\n",
      "Recursos naturales: Elementos de la naturaleza que el hombre puede aprovechar para satisfacer sus necesidades. Son el agua, el suelo, la flora, la fauna y el aire.\n",
      "Reservas forestales: Áreas de propiedad pública o privada que se destinan al mantenimiento o recuperación de la vegetación nativa protectora.\n",
      "SIGAM Sistema de Gestión Ambiental Municipal: Estrategia de fortalecimiento de la capacidad de Gestión Ambiental de las Entidades Territoriales, con miras a organizar y brindar los elementos necesarios para hacer frente a las responsabilidades ambientales que son competencia del municipio.\n",
      "SINA Sistema Nacional Ambiental: Según el artículo 4 de la Ley 99 de 1993, es el conjunto de orientaciones, normas, actividades, recursos, programas e instituciones que permiten la puesta en marcha de los principios generales ambientales contenidos en ella; fue reglamentado parcialmente por el Decreto 1600 de julio 27 de 1994.\n",
      "Sistema: Conjunto de elementos agrupados con un criterio determinado, las relaciones entre los elementos del conjunto y las relaciones de éste con su entorno.\n",
      "Sustentabilidad ecológica: Capacidad de un ecosistema de mantener su estado igual, o bien equivalente, en el tiempo. Para lograrlo, se precisa el mantenimiento de ciertos parámetros, por parte de la naturaleza a través de mecanismos de equilibrio dinámico.\n",
      "Vegetación: Es el manto vegetal de un territorio dado.\n",
      "Vertimiento: Evacuación deliberada de desechos u otras sustancias al ambiente.\n"
     ]
    }
   ],
   "source": [
    "# Muestra los términos y definiciones del glosario\n",
    "for termino, definicion in glosario_ambiental.items():\n",
    "    print(f\"{termino}: {definicion}\")"
   ]
  },
  {
   "cell_type": "code",
   "execution_count": 18,
   "id": "ef8e0678",
   "metadata": {},
   "outputs": [
    {
     "name": "stdout",
     "output_type": "stream",
     "text": [
      "\n",
      "Fuentes:\n",
      "Fuente 1: https://www.car.gov.co/vercontenido/2215\n"
     ]
    }
   ],
   "source": [
    "# Muestra las fuentes al final del código\n",
    "print(\"\\nFuentes:\")\n",
    "for fuentes, enlace in fuentes.items():\n",
    "    print(f\"{fuentes}: {enlace}\")"
   ]
  },
  {
   "cell_type": "code",
   "execution_count": null,
   "id": "f222d4e5",
   "metadata": {},
   "outputs": [],
   "source": []
  },
  {
   "cell_type": "code",
   "execution_count": null,
   "id": "4ac91b6e",
   "metadata": {},
   "outputs": [],
   "source": []
  },
  {
   "cell_type": "code",
   "execution_count": null,
   "id": "58963c80",
   "metadata": {},
   "outputs": [],
   "source": []
  },
  {
   "cell_type": "code",
   "execution_count": null,
   "id": "da47edc3",
   "metadata": {},
   "outputs": [],
   "source": []
  }
 ],
 "metadata": {
  "kernelspec": {
   "display_name": "Python 3 (ipykernel)",
   "language": "python",
   "name": "python3"
  },
  "language_info": {
   "codemirror_mode": {
    "name": "ipython",
    "version": 3
   },
   "file_extension": ".py",
   "mimetype": "text/x-python",
   "name": "python",
   "nbconvert_exporter": "python",
   "pygments_lexer": "ipython3",
   "version": "3.11.4"
  }
 },
 "nbformat": 4,
 "nbformat_minor": 5
}
